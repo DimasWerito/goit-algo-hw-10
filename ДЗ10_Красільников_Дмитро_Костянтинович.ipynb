{
  "nbformat": 4,
  "nbformat_minor": 0,
  "metadata": {
    "colab": {
      "provenance": [],
      "authorship_tag": "ABX9TyMwWbvhte6goS5R80pAGhVk",
      "include_colab_link": true
    },
    "kernelspec": {
      "name": "python3",
      "display_name": "Python 3"
    },
    "language_info": {
      "name": "python"
    }
  },
  "cells": [
    {
      "cell_type": "markdown",
      "metadata": {
        "id": "view-in-github",
        "colab_type": "text"
      },
      "source": [
        "<a href=\"https://colab.research.google.com/github/DimasWerito/goit-algo-hw-10/blob/main/%D0%94%D0%9710_%D0%9A%D1%80%D0%B0%D1%81%D1%96%D0%BB%D1%8C%D0%BD%D0%B8%D0%BA%D0%BE%D0%B2_%D0%94%D0%BC%D0%B8%D1%82%D1%80%D0%BE_%D0%9A%D0%BE%D1%81%D1%82%D1%8F%D0%BD%D1%82%D0%B8%D0%BD%D0%BE%D0%B2%D0%B8%D1%87.ipynb\" target=\"_parent\"><img src=\"https://colab.research.google.com/assets/colab-badge.svg\" alt=\"Open In Colab\"/></a>"
      ]
    },
    {
      "cell_type": "markdown",
      "source": [
        "# Завдання 1"
      ],
      "metadata": {
        "id": "fGfXHJjt57xg"
      }
    },
    {
      "cell_type": "code",
      "source": [
        "# На початку треба встановити модуль pulp\n",
        "pip install pulp\n"
      ],
      "metadata": {
        "id": "ODkdgafJ6Wpn"
      },
      "execution_count": null,
      "outputs": []
    },
    {
      "cell_type": "code",
      "execution_count": 1,
      "metadata": {
        "colab": {
          "base_uri": "https://localhost:8080/",
          "height": 383
        },
        "id": "I_lctpNJ5zL2",
        "outputId": "a408f089-57f1-4b9f-b5d0-5716a9899e1b"
      },
      "outputs": [
        {
          "output_type": "error",
          "ename": "ModuleNotFoundError",
          "evalue": "No module named 'pulp'",
          "traceback": [
            "\u001b[0;31m---------------------------------------------------------------------------\u001b[0m",
            "\u001b[0;31mModuleNotFoundError\u001b[0m                       Traceback (most recent call last)",
            "\u001b[0;32m<ipython-input-1-9ea96f883380>\u001b[0m in \u001b[0;36m<cell line: 1>\u001b[0;34m()\u001b[0m\n\u001b[0;32m----> 1\u001b[0;31m \u001b[0;32mimport\u001b[0m \u001b[0mpulp\u001b[0m\u001b[0;34m\u001b[0m\u001b[0;34m\u001b[0m\u001b[0m\n\u001b[0m\u001b[1;32m      2\u001b[0m \u001b[0;34m\u001b[0m\u001b[0m\n\u001b[1;32m      3\u001b[0m \u001b[0;31m# Створюємо задачу лінійного програмування\u001b[0m\u001b[0;34m\u001b[0m\u001b[0;34m\u001b[0m\u001b[0m\n\u001b[1;32m      4\u001b[0m \u001b[0mprob\u001b[0m \u001b[0;34m=\u001b[0m \u001b[0mpulp\u001b[0m\u001b[0;34m.\u001b[0m\u001b[0mLpProblem\u001b[0m\u001b[0;34m(\u001b[0m\u001b[0;34m\"Optimization_Production\"\u001b[0m\u001b[0;34m,\u001b[0m \u001b[0mpulp\u001b[0m\u001b[0;34m.\u001b[0m\u001b[0mLpMaximize\u001b[0m\u001b[0;34m)\u001b[0m\u001b[0;34m\u001b[0m\u001b[0;34m\u001b[0m\u001b[0m\n\u001b[1;32m      5\u001b[0m \u001b[0;34m\u001b[0m\u001b[0m\n",
            "\u001b[0;31mModuleNotFoundError\u001b[0m: No module named 'pulp'",
            "",
            "\u001b[0;31m---------------------------------------------------------------------------\u001b[0;32m\nNOTE: If your import is failing due to a missing package, you can\nmanually install dependencies using either !pip or !apt.\n\nTo view examples of installing some common dependencies, click the\n\"Open Examples\" button below.\n\u001b[0;31m---------------------------------------------------------------------------\u001b[0m\n"
          ],
          "errorDetails": {
            "actions": [
              {
                "action": "open_url",
                "actionText": "Open Examples",
                "url": "/notebooks/snippets/importing_libraries.ipynb"
              }
            ]
          }
        }
      ],
      "source": [
        "import pulp\n",
        "\n",
        "# Створюємо задачу лінійного програмування\n",
        "prob = pulp.LpProblem(\"Optimization_Production\", pulp.LpMaximize)\n",
        "\n",
        "# Змінні: кількість виробленого лимонаду та фруктового соку\n",
        "lemonade = pulp.LpVariable('Lemonade', lowBound=0, cat='Continuous')\n",
        "fruit_juice = pulp.LpVariable('Fruit_Juice', lowBound=0, cat='Continuous')\n",
        "\n",
        "# Цільова функція: максимізація загальної кількості продуктів\n",
        "prob += lemonade + fruit_juice, \"Total_Production\"\n",
        "\n",
        "# Обмеження на ресурси\n",
        "prob += 2 * lemonade + 1 * fruit_juice <= 100, \"Water_Constraint\"      # Обмеження на воду\n",
        "prob += 1 * lemonade <= 50, \"Sugar_Constraint\"                         # Обмеження на цукор\n",
        "prob += 1 * lemonade <= 30, \"Lemon_Juice_Constraint\"                   # Обмеження на лимонний сік\n",
        "prob += 2 * fruit_juice <= 40, \"Fruit_Puree_Constraint\"                # Обмеження на фруктове пюре\n",
        "\n",
        "# Розв'язання задачі\n",
        "prob.solve()\n",
        "\n",
        "# Виведення результатів\n",
        "print(\"Статус розв'язку:\", pulp.LpStatus[prob.status])\n",
        "print(f\"Кількість виробленого лимонаду: {pulp.value(lemonade)}\")\n",
        "print(f\"Кількість виробленого фруктового соку: {pulp.value(fruit_juice)}\")\n",
        "print(f\"Загальна кількість вироблених продуктів: {pulp.value(prob.objective)}\")\n"
      ]
    },
    {
      "cell_type": "markdown",
      "source": [
        "# Завдання 2"
      ],
      "metadata": {
        "id": "zHtSJJ6-6itq"
      }
    },
    {
      "cell_type": "code",
      "source": [
        "import numpy as np\n",
        "import matplotlib.pyplot as plt\n",
        "from scipy.integrate import quad\n",
        "\n",
        "def f(x):\n",
        "    return x ** 2\n",
        "\n",
        "a = 0\n",
        "b = 2\n",
        "\n",
        "N = 10000\n",
        "\n",
        "x_random = np.random.uniform(a, b, N)\n",
        "f_random = f(x_random)\n",
        "\n",
        "integral_mc = (b - a) * np.mean(f_random)\n",
        "integral_exact = (b ** 3) / 3 - (a ** 3) / 3\n",
        "integral_quad, _ = quad(f, a, b)\n",
        "\n",
        "print(f\"Значення інтеграла методом Монте-Карло: {integral_mc}\")\n",
        "print(f\"Аналітичне значення інтеграла: {integral_exact}\")\n",
        "print(f\"Значення інтеграла за допомогою функції quad: {integral_quad}\")\n",
        "\n",
        "x = np.linspace(-0.5, 2.5, 400)\n",
        "y = f(x)\n",
        "\n",
        "fig, ax = plt.subplots()\n",
        "\n",
        "ax.plot(x, y, 'r', linewidth=2)\n",
        "\n",
        "ix = np.linspace(a, b)\n",
        "iy = f(ix)\n",
        "ax.fill_between(ix, iy, color='gray', alpha=0.3)\n",
        "\n",
        "below_curve = x_random < f_random\n",
        "above_curve = x_random >= f_random\n",
        "ax.scatter(x_random[below_curve], f_random[below_curve], color='blue', s=1)\n",
        "ax.scatter(x_random[above_curve], f_random[above_curve], color='red', s=1)\n",
        "\n",
        "ax.set_xlim([x[0], x[-1]])\n",
        "ax.set_ylim([0, max(y) + 0.1])\n",
        "ax.set_xlabel('x')\n",
        "ax.set_ylabel('f(x)')\n",
        "\n",
        "ax.axvline(x=a, color='gray', linestyle='--')\n",
        "ax.axvline(x=b, color='gray', linestyle='--')\n",
        "ax.set_title('Графік інтегрування f(x) = x^2 від ' + str(a) + ' до ' + str(b))\n",
        "plt.grid()\n",
        "plt.show()\n"
      ],
      "metadata": {
        "colab": {
          "base_uri": "https://localhost:8080/",
          "height": 524
        },
        "id": "bzjX-nhl8n5o",
        "outputId": "e672cdae-3c14-4f5a-d7ca-9cad4537984a"
      },
      "execution_count": 2,
      "outputs": [
        {
          "output_type": "stream",
          "name": "stdout",
          "text": [
            "Значення інтеграла методом Монте-Карло: 2.6290334075813355\n",
            "Аналітичне значення інтеграла: 2.6666666666666665\n",
            "Значення інтеграла за допомогою функції quad: 2.666666666666667\n"
          ]
        },
        {
          "output_type": "display_data",
          "data": {
            "text/plain": [
              "<Figure size 640x480 with 1 Axes>"
            ],
            "image/png": "[encoded data removed]"
          },
          "metadata": {}
        }
      ]
    },
    {
      "cell_type": "markdown",
      "source": [
        "# README\n",
        "\n",
        "## Завдання 2: Обчислення значення інтеграла функції методом Монте-Карло\n",
        "\n",
        "### Опис завдання\n",
        "\n",
        "Вам необхідно обчислити значення інтеграла функції \\( f(x) = x^2 \\) на інтервалі \\([0, 2]\\) методом Монте-Карло. Після цього перевірити правильність розрахунків, порівнявши отриманий результат з аналітичним розрахунком та результатом функції `quad` з бібліотеки `scipy`.\n",
        "\n",
        "### Обчислення значення інтеграла методом Монте-Карло\n",
        "\n",
        "1. **Визначення функції**:\n",
        "    ```python\n",
        "    def f(x):\n",
        "        return x ** 2\n",
        "    ```\n",
        "\n",
        "2. **Задамо межі інтегрування**:\n",
        "    ```python\n",
        "    a = 0  # Нижня межа\n",
        "    b = 2  # Верхня межа\n",
        "    ```\n",
        "\n",
        "3. **Інтегрування методом Монте-Карло**:\n",
        "    ```python\n",
        "    import numpy as np\n",
        "\n",
        "    N = 10000  # Кількість випадкових точок\n",
        "\n",
        "    x_random = np.random.uniform(a, b, N)\n",
        "    f_random = f(x_random)\n",
        "\n",
        "    integral_mc = (b - a) * np.mean(f_random)\n",
        "    ```\n",
        "\n",
        "4. **Аналітичний результат**:\n",
        "    ```python\n",
        "    integral_exact = (b ** 3) / 3 - (a ** 3) / 3\n",
        "    ```\n",
        "\n",
        "5. **Обчислення за допомогою `quad`**:\n",
        "    ```python\n",
        "    from scipy.integrate import quad\n",
        "\n",
        "    integral_quad, _ = quad(f, a, b)\n",
        "    ```\n",
        "\n",
        "### Результати\n",
        "\n",
        "- **Метод Монте-Карло**:\n",
        "    - Значення інтеграла, обчислене методом Монте-Карло з використанням 10000 випадкових точок, дорівнює (значення буде виведено під час виконання коду).\n",
        "\n",
        "- **Аналітичний результат**:\n",
        "    - Точне значення інтеграла \\( \\int_0^2 x^2 \\, dx = \\frac{2^3}{3} - \\frac{0^3}{3} = \\frac{8}{3} \\approx 2.6667 \\).\n",
        "\n",
        "- **Функція `quad`**:\n",
        "    - Значення інтеграла, обчислене за допомогою функції `quad` з бібліотеки `scipy`, дорівнює (значення буде виведено під час виконання коду).\n",
        "\n",
        "### Висновки\n",
        "\n",
        "1. **Метод Монте-Карло**:\n",
        "    - Метод Монте-Карло дає наближений результат інтеграції, який залежить від кількості випадкових точок \\( N \\).\n",
        "    - Цей метод корисний для обчислення інтегралів у випадках, коли аналітичне обчислення складне або неможливе.\n",
        "    - Точність методу підвищується зі збільшенням кількості випадкових точок.\n",
        "\n",
        "2. **Аналітичний метод**:\n",
        "    - Аналітичний метод дає точний результат інтеграції.\n",
        "    - Використовується, коли інтеграл можна обчислити аналітично.\n",
        "\n",
        "3. **Функція `quad`**:\n",
        "    - Функція `quad` з бібліотеки `scipy` забезпечує високу точність обчислення інтеграла.\n",
        "    - Використання числових методів, таких як `quad`, є ефективним для обчислення інтегралів.\n",
        "\n",
        "### Порівняння методів\n",
        "\n",
        "- **Метод Монте-Карло**:\n",
        "    - Дає наближений результат.\n",
        "    - Потребує великої кількості випадкових точок для підвищення точності.\n",
        "    - Корисний для складних інтегралів, які важко обчислити аналітично.\n",
        "\n",
        "- **Аналітичний метод**:\n",
        "    - Забезпечує точний результат.\n",
        "    - Використовується для інтегралів, які можна обчислити аналітично.\n",
        "\n",
        "- **Функція `quad`**:\n",
        "    - Забезпечує високу точність і є зручною для обчислення інтегралів числовими методами.\n",
        "    - Підтверджує правильність аналітичних розрахунків.\n",
        "\n",
        "### Код для візуалізації графіка\n",
        "\n",
        "```python\n",
        "import numpy as np\n",
        "import matplotlib.pyplot as plt\n",
        "from scipy.integrate import quad\n",
        "\n",
        "def f(x):\n",
        "    return x ** 2\n",
        "\n",
        "a = 0\n",
        "b = 2\n",
        "\n",
        "N = 10000\n",
        "\n",
        "x_random = np.random.uniform(a, b, N)\n",
        "f_random = f(x_random)\n",
        "\n",
        "integral_mc = (b - a) * np.mean(f_random)\n",
        "integral_exact = (b ** 3) / 3 - (a ** 3) / 3\n",
        "integral_quad, _ = quad(f, a, b)\n",
        "\n",
        "print(f\"Значення інтеграла методом Монте-Карло: {integral_mc}\")\n",
        "print(f\"Аналітичне значення інтеграла: {integral_exact}\")\n",
        "print(f\"Значення інтеграла за допомогою функції quad: {integral_quad}\")\n",
        "\n",
        "x = np.linspace(-0.5, 2.5, 400)\n",
        "y = f(x)\n",
        "\n",
        "fig, ax = plt.subplots()\n",
        "\n",
        "ax.plot(x, y, 'r', linewidth=2)\n",
        "\n",
        "ix = np.linspace(a, b)\n",
        "iy = f(ix)\n",
        "ax.fill_between(ix, iy, color='gray', alpha=0.3)\n",
        "\n",
        "below_curve = x_random < f_random\n",
        "above_curve = x_random >= f_random\n",
        "ax.scatter(x_random[below_curve], f_random[below_curve], color='blue', s=1)\n",
        "ax.scatter(x_random[above_curve], f_random[above_curve], color='red', s=1)\n",
        "\n",
        "ax.set_xlim([x[0], x[-1]])\n",
        "ax.set_ylim([0, max(y) + 0.1])\n",
        "ax.set_xlabel('x')\n",
        "ax.set_ylabel('f(x)')\n",
        "\n",
        "ax.axvline(x=a, color='gray', linestyle='--')\n",
        "ax.axvline(x=b, color='gray', linestyle='--')\n",
        "ax.set_title('Графік інтегрування f(x) = x^2 від ' + str(a) + ' до ' + str(b))\n",
        "plt.grid()\n",
        "plt.show()\n"
      ],
      "metadata": {
        "id": "FRfvUIQf8rPu"
      }
    }
  ]
}